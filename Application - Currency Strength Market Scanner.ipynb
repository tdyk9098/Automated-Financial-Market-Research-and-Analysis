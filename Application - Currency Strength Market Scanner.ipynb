{
 "cells": [
  {
   "cell_type": "code",
   "execution_count": 7,
   "id": "cdcec439",
   "metadata": {},
   "outputs": [],
   "source": [
    "import numpy as np\n",
    "import pandas as pd\n",
    "from datetime import datetime, timedelta\n",
    "import matplotlib.pyplot as plt\n",
    "import seaborn as sns\n",
    "import requests"
   ]
  },
  {
   "cell_type": "markdown",
   "id": "1f041936",
   "metadata": {},
   "source": [
    "# RETREIVE THE FX BASKETS"
   ]
  },
  {
   "cell_type": "code",
   "execution_count": 11,
   "id": "687ca5c9",
   "metadata": {},
   "outputs": [],
   "source": [
    "def basket(basket_name):\n",
    "    email = \"your@email.com\"\n",
    "    product_type = \"currency_crosses\"\n",
    "    time_frame = \"Daily\"\n",
    "\n",
    "    if basket_name == 'USD':\n",
    "        names = ['AUD/USD','EUR/USD','GBP/USD','USD/JPY','USD/CHF','USD/CAD']\n",
    "        \n",
    "    elif basket_name == 'AUD':\n",
    "        names = ['AUD/USD','EUR/AUD','GBP/AUD','AUD/JPY','AUD/CHF','AUD/CAD']\n",
    "        \n",
    "    elif basket_name == 'EUR':\n",
    "        names = ['EUR/AUD','EUR/USD','EUR/GBP','EUR/JPY','EUR/CHF','EUR/CAD']    \n",
    "    \n",
    "    elif basket_name == 'JPY':\n",
    "        names = ['AUD/JPY','GBP/JPY','EUR/JPY','CHF/JPY','CAD/JPY','USD/JPY']    \n",
    "    \n",
    "    elif basket_name == 'GBP':\n",
    "        names = ['GBP/USD','GBP/AUD','GBP/JPY','GBP/CHF','GBP/CAD','EUR/GBP']    \n",
    "    \n",
    "    elif basket_name == 'CAD':\n",
    "        names = ['AUD/CAD','USD/CAD','CAD/JPY','CAD/CHF','EUR/CAD','GBP/CAD']    \n",
    "    \n",
    "    elif basket_name == 'CHF':\n",
    "        names = ['AUD/CHF','USD/CHF','CHF/JPY','CAD/CHF','EUR/CHF','GBP/CHF']        \n",
    "        \n",
    "    df = pd.DataFrame()\n",
    "    \n",
    "    # Get the current date\n",
    "    current_date = datetime.now()\n",
    "\n",
    "    # Check if today is a weekend (Saturday or Sunday)\n",
    "    # If yes, get the last Friday\n",
    "    if current_date.weekday() in [5, 6]:\n",
    "        days_until_friday = current_date.weekday() - 4\n",
    "        last_friday_date = current_date - timedelta(days=days_until_friday)\n",
    "        from_date = (last_friday_date-timedelta(days = 100)).strftime('%m/%d/%Y')\n",
    "        to_date = last_friday_date.strftime('%m/%d/%Y')\n",
    "    else:\n",
    "        from_date = (current_date-timedelta(days = 100)).strftime('%m/%d/%Y')\n",
    "        to_date = current_date.strftime('%m/%d/%Y')\n",
    "    \n",
    "    \n",
    "    for cross in names:\n",
    "        name = cross\n",
    "        params = {\n",
    "            \"email\": email,\n",
    "            \"type\": \"historical_data\",\n",
    "            \"product\": product_type,\n",
    "            \"from_date\": from_date,\n",
    "            \"to_date\": to_date,\n",
    "            \"time_frame\": time_frame,\n",
    "            \"name\": name\n",
    "        }\n",
    "    \n",
    "        response = requests.get(\"http://api.scraperlink.com/investpy/\", params=params)\n",
    "        data = response.json()\n",
    "        a = pd.DataFrame(data['data'])[['rowDate','last_close']]\n",
    "        a['rowDate'] = pd.to_datetime(a['rowDate'])\n",
    "        a['last_close'] = a['last_close'].astype(float)\n",
    "        a.columns = [cross+'_date',cross+'_close']\n",
    "        \n",
    "        df = pd.concat([df,a], axis = 1)\n",
    "        \n",
    "    return df"
   ]
  },
  {
   "cell_type": "code",
   "execution_count": 12,
   "id": "d7169d8a",
   "metadata": {},
   "outputs": [],
   "source": [
    "def date_check(df):\n",
    "    # Check if all the dates are the same == no missing data\n",
    "    column_arrays = [df[col].to_numpy() for col in df.columns[::2]]\n",
    "    all_columns_are_identical = np.all([np.array_equal(column_arrays[0], col) for col in column_arrays[1:]])\n",
    "    \n",
    "    if all_columns_are_identical:\n",
    "        df.rename(columns={df.columns[0]: 'Date'}, inplace=True)\n",
    "        df = df.set_index('Date')\n",
    "        df = df[df.columns[0::2]]\n",
    "    else:\n",
    "        raise ValueError('NOT IDENTICAL')\n",
    "        \n",
    "    return df"
   ]
  },
  {
   "cell_type": "markdown",
   "id": "097f4ec0",
   "metadata": {},
   "source": [
    "Obtaining the basket of FX crosses"
   ]
  },
  {
   "cell_type": "code",
   "execution_count": 13,
   "id": "c7efd0de",
   "metadata": {},
   "outputs": [],
   "source": [
    "usd = basket('USD')\n",
    "aud = basket('AUD')\n",
    "eur = basket('EUR')\n",
    "gbp = basket('GBP')\n",
    "cad = basket('CAD')\n",
    "chf = basket('CHF')\n",
    "jpy = basket('JPY')"
   ]
  },
  {
   "cell_type": "markdown",
   "id": "881eb879",
   "metadata": {},
   "source": [
    "Running date check"
   ]
  },
  {
   "cell_type": "code",
   "execution_count": 14,
   "id": "c3496f07",
   "metadata": {},
   "outputs": [],
   "source": [
    "dfs = [usd, aud, eur, gbp, cad, chf, jpy]\n",
    "    \n",
    "for i in range(len(dfs)):\n",
    "    try:\n",
    "        dfs[i] = date_check(dfs[i])\n",
    "    except ValueError as e:\n",
    "        print(e)\n",
    "        break"
   ]
  },
  {
   "cell_type": "code",
   "execution_count": 15,
   "id": "06f321b6",
   "metadata": {},
   "outputs": [],
   "source": [
    "names = ['USD','AUD','EUR','GBP','CAD','CHF','JPY']\n",
    "\n",
    "for x in range(len(names)):\n",
    "    dfs[x].to_pickle(names[x]+'.pkl')"
   ]
  },
  {
   "cell_type": "code",
   "execution_count": 16,
   "id": "148e76da",
   "metadata": {},
   "outputs": [],
   "source": [
    "usd = pd.read_pickle('USD.pkl')\n",
    "aud = pd.read_pickle('AUD.pkl')\n",
    "eur = pd.read_pickle('EUR.pkl')\n",
    "gbp = pd.read_pickle('GBP.pkl')\n",
    "cad = pd.read_pickle('CAD.pkl')\n",
    "chf = pd.read_pickle('CHF.pkl')\n",
    "jpy = pd.read_pickle('JPY.pkl')"
   ]
  },
  {
   "cell_type": "markdown",
   "id": "7da0c480",
   "metadata": {},
   "source": [
    "# Creating the basket indice\n"
   ]
  },
  {
   "cell_type": "code",
   "execution_count": 17,
   "id": "93560fff",
   "metadata": {},
   "outputs": [],
   "source": [
    "def indice(df, name):\n",
    "    cols = df.columns\n",
    "    for x in range(len(cols)):\n",
    "        if cols[x][:3] != name:\n",
    "            df[cols[x]] = 1/df[cols[x]]\n",
    "    df = df.reset_index().sort_values(by = 'Date')\n",
    "    df = df.set_index('Date')\n",
    "    a = (df/df.shift(1))-1 # daily\n",
    "    b = (df/df.shift(5))-1 # weekly\n",
    "    c = (df/df.shift(20))-1 # monthly\n",
    "    d = (df/df.shift(60))-1 # quarterly\n",
    "    \n",
    "    df[1]= a.mean(axis = 1)\n",
    "    df[2]= b.mean(axis = 1)\n",
    "    df[3]= c.mean(axis = 1)\n",
    "    df[4]= d.mean(axis = 1)\n",
    "\n",
    "    \n",
    "    df = df[[1,2,3,4]].dropna()\n",
    "    df.columns = [name+'_1Dpct',name+'_1Wpct',name+'_1Mpct',name+'_1Qpct']\n",
    "    return df"
   ]
  },
  {
   "cell_type": "code",
   "execution_count": 18,
   "id": "16fb529e",
   "metadata": {},
   "outputs": [],
   "source": [
    "usd_i = indice(usd.copy(),'USD')\n",
    "aud_i = indice(aud.copy(),'AUD')\n",
    "eur_i = indice(eur.copy(),'EUR')\n",
    "gbp_i = indice(gbp.copy(),'GBP')\n",
    "cad_i = indice(cad.copy(),'CAD')\n",
    "chf_i = indice(chf.copy(),'CHF')\n",
    "jpy_i = indice(jpy.copy(),'JPY')"
   ]
  },
  {
   "cell_type": "code",
   "execution_count": 19,
   "id": "1aab6a99",
   "metadata": {
    "scrolled": true
   },
   "outputs": [],
   "source": [
    "# OPTIONAL TO PICKLE\n",
    "#usd_i.to_pickle('USD_indice.pkl')\n",
    "#aud_i.to_pickle('AUD_indice.pkl')\n",
    "#eur_i.to_pickle('EUR_indice.pkl')\n",
    "#gbp_i.to_pickle('GBP_indice.pkl')\n",
    "#cad_i.to_pickle('CAD_indice.pkl')\n",
    "#chf_i.to_pickle('CHF_indice.pkl')\n",
    "#jpy_i.to_pickle('JPY_indice.pkl')"
   ]
  },
  {
   "cell_type": "code",
   "execution_count": 20,
   "id": "1ba3164e",
   "metadata": {},
   "outputs": [],
   "source": [
    "# OPTIONAL LOAD PICKLE\n",
    "#usd_i = pd.read_pickle('USD_indice.pkl')\n",
    "#aud_i = pd.read_pickle('AUD_indice.pkl')\n",
    "#eur_i = pd.read_pickle('EUR_indice.pkl')\n",
    "#gbp_i = pd.read_pickle('GBP_indice.pkl')\n",
    "#cad_i = pd.read_pickle('CAD_indice.pkl')\n",
    "#chf_i = pd.read_pickle('CHF_indice.pkl')\n",
    "#jpy_i = pd.read_pickle('JPY_indice.pkl')"
   ]
  },
  {
   "cell_type": "code",
   "execution_count": 21,
   "id": "72998448",
   "metadata": {},
   "outputs": [
    {
     "data": {
      "text/plain": [
       "True"
      ]
     },
     "execution_count": 21,
     "metadata": {},
     "output_type": "execute_result"
    }
   ],
   "source": [
    "# Merging all indices\n",
    "basket = pd.concat([usd_i,aud_i,eur_i,gbp_i,cad_i,chf_i,jpy_i], axis = 1)\n",
    "\n",
    "# check no dates were dropped\n",
    "len(usd_i) == len(basket)"
   ]
  },
  {
   "cell_type": "code",
   "execution_count": 22,
   "id": "ed6fdfa8",
   "metadata": {},
   "outputs": [],
   "source": [
    "# Get the biggest Winner and Loser\n",
    "# Per: each timeframe\n",
    "d_col = basket.columns[::4]\n",
    "w_col = basket.columns[1::4]\n",
    "m_col = basket.columns[2::4]\n",
    "q_col = basket.columns[3::4]\n",
    "\n",
    "# Assign points per D, W, M, Q for each of the 7 FXs (highest point = leader, lowest = laggard)\n",
    "point_d = basket[d_col].rank(axis = 1, ascending= True)\n",
    "point_w = basket[w_col].rank(axis = 1, ascending= True)\n",
    "point_m = basket[m_col].rank(axis = 1, ascending= True)\n",
    "point_q = basket[q_col].rank(axis = 1, ascending= True)"
   ]
  },
  {
   "cell_type": "code",
   "execution_count": 23,
   "id": "f604da18",
   "metadata": {},
   "outputs": [],
   "source": [
    "# Identify Short Term Leader/Laggard and Long Term Leader/Laggard\n",
    "st = pd.DataFrame()\n",
    "lt = pd.DataFrame()\n",
    "\n",
    "for i in range(len(point_d.columns)):\n",
    "    col1 = point_d.iloc[:, i]\n",
    "    col2 = point_w.iloc[:, i]\n",
    "    result_col_name = point_d.columns[i][:3]  \n",
    "    st[result_col_name] = col1 + col2\n",
    "    col1 = point_m.iloc[:, i]\n",
    "    col2 = point_q.iloc[:, i]\n",
    "    result_col_name = point_m.columns[i][:3]\n",
    "    lt[result_col_name] = col1 + col2   \n",
    "    \n",
    "    \n",
    "st = pd.concat([st,st.idxmax(axis = 1),st.idxmin(axis = 1)], axis = 1)\n",
    "st.rename(columns={0: 'ST_Lead' ,1:'ST_Lag'}, inplace = True)\n",
    "\n",
    "lt = pd.concat([lt,lt.idxmax(axis = 1),lt.idxmin(axis = 1)], axis = 1)\n",
    "lt.rename(columns={0: 'LT_Lead' ,1:'LT_Lag'}, inplace = True)"
   ]
  },
  {
   "cell_type": "code",
   "execution_count": 24,
   "id": "724101cd",
   "metadata": {},
   "outputs": [],
   "source": [
    "# CREATE A MARKET SCANNER WITH LEAD AND LAG, IDENTIFY ST + LT ALIGNMENT\n",
    "scanner = pd.concat([st[st.columns[-2:]],lt[lt.columns[-2:]]], axis = 1)\n",
    "scanner['Long'] = np.where(scanner['ST_Lead']==scanner['LT_Lead'],scanner['LT_Lead'],'None')\n",
    "scanner['Short'] = np.where(scanner['ST_Lag']==scanner['LT_Lag'],scanner['LT_Lag'],'None')"
   ]
  },
  {
   "cell_type": "markdown",
   "id": "dcd4ddd4",
   "metadata": {},
   "source": [
    "# Long: Best Lead FX Cross"
   ]
  },
  {
   "cell_type": "code",
   "execution_count": 25,
   "id": "2833cb97",
   "metadata": {},
   "outputs": [],
   "source": [
    "def lead(lead):\n",
    "    if lead == 'USD':\n",
    "        df = usd.copy()\n",
    "    elif lead == 'EUR':\n",
    "        df = eur.copy()\n",
    "    elif lead == 'AUD':\n",
    "        df = aud.copy()\n",
    "    elif lead == 'JPY':\n",
    "        df = jpy.copy()\n",
    "    elif lead == 'GBP':\n",
    "        df = gbp.copy()\n",
    "    elif lead == 'CAD':\n",
    "        df = cad.copy()\n",
    "    elif lead == 'CHF':\n",
    "        df = chf.copy()\n",
    "    \n",
    "    cols = df.columns\n",
    "    for x in range(len(cols)):\n",
    "        if cols[x][:3] != lead:\n",
    "            df[cols[x]] = 1 / df[cols[x]]\n",
    "    \n",
    "    df = df.reset_index().sort_values(by='Date')\n",
    "    df = df.set_index('Date')\n",
    "    \n",
    "    df = ((df / df.shift(1)) - 1).dropna()\n",
    "    idxmax_result = df.idxmax(axis=1)\n",
    "    \n",
    "    def generate_output(row):\n",
    "        if row[:3] != lead:\n",
    "            return row[4:7] + '/' + row[0:3]\n",
    "        else:\n",
    "            return row[:7]\n",
    "    \n",
    "    df = idxmax_result.apply(generate_output)\n",
    "    return df"
   ]
  },
  {
   "cell_type": "code",
   "execution_count": 26,
   "id": "e9857441",
   "metadata": {},
   "outputs": [],
   "source": [
    "# Initialize an empty list to store the results\n",
    "long_results = []\n",
    "\n",
    "# Iterate through DataFrame rows and apply the lead function\n",
    "for index, row in scanner.iterrows():\n",
    "    if row['Long'] != 'None':\n",
    "        result = lead(row['Long']).reindex([index]).values[0]\n",
    "    else:\n",
    "        result = 'None'\n",
    "    long_results.append(result)\n",
    "    \n",
    "    \n",
    "scanner['Long_Result'] = long_results"
   ]
  },
  {
   "cell_type": "markdown",
   "id": "d5bd11cf",
   "metadata": {},
   "source": [
    "# Short: Worst Lag FX Cross"
   ]
  },
  {
   "cell_type": "code",
   "execution_count": 27,
   "id": "5bfa8055",
   "metadata": {},
   "outputs": [],
   "source": [
    "def lag(lag):\n",
    "    if lag == 'USD':\n",
    "        df = usd.copy()\n",
    "    elif lag == 'EUR':\n",
    "        df = eur.copy()\n",
    "    elif lag == 'AUD':\n",
    "        df = aud.copy()\n",
    "    elif lag == 'JPY':\n",
    "        df = jpy.copy()\n",
    "    elif lag == 'GBP':\n",
    "        df = gbp.copy()\n",
    "    elif lag == 'CAD':\n",
    "        df = cad.copy()\n",
    "    elif lag == 'CHF':\n",
    "        df = chf.copy()\n",
    "    \n",
    "    cols = df.columns\n",
    "    for x in range(len(cols)):\n",
    "        if cols[x][:3] != lead:\n",
    "            df[cols[x]] = 1 / df[cols[x]]\n",
    "    \n",
    "    df = df.reset_index().sort_values(by='Date')\n",
    "    df = df.set_index('Date')\n",
    "    \n",
    "    df = ((df / df.shift(1)) - 1).dropna()\n",
    "    idxmin_result = df.idxmin(axis=1)\n",
    "    \n",
    "    def generate_output(row):\n",
    "        if row[:3] != lead:\n",
    "            return row[4:7] + '/' + row[0:3]\n",
    "        else:\n",
    "            return row[:7]\n",
    "    \n",
    "    df = idxmin_result.apply(generate_output)\n",
    "    return df"
   ]
  },
  {
   "cell_type": "code",
   "execution_count": 28,
   "id": "8301b36d",
   "metadata": {},
   "outputs": [],
   "source": [
    "# Initialize an empty list to store the results\n",
    "short_results = []\n",
    "\n",
    "# Iterate through DataFrame rows and apply the lead function\n",
    "for index, row in scanner.iterrows():\n",
    "    if row['Short'] != 'None':\n",
    "        result = lead(row['Short']).reindex([index]).values[0]\n",
    "    else:\n",
    "        result = 'None'\n",
    "    short_results.append(result)\n",
    "    \n",
    "    \n",
    "scanner['Short_Result'] = short_results"
   ]
  },
  {
   "cell_type": "markdown",
   "id": "10a0aeb0",
   "metadata": {},
   "source": [
    "OUTPUT"
   ]
  },
  {
   "cell_type": "code",
   "execution_count": 29,
   "id": "3e95275d",
   "metadata": {},
   "outputs": [],
   "source": [
    "program = scanner.copy()"
   ]
  },
  {
   "cell_type": "markdown",
   "id": "b50ca77f",
   "metadata": {},
   "source": [
    "# TODAY'S STRONGEST CURRENCY"
   ]
  },
  {
   "cell_type": "code",
   "execution_count": 37,
   "id": "07ddbeb0",
   "metadata": {},
   "outputs": [
    {
     "data": {
      "text/html": [
       "<div>\n",
       "<style scoped>\n",
       "    .dataframe tbody tr th:only-of-type {\n",
       "        vertical-align: middle;\n",
       "    }\n",
       "\n",
       "    .dataframe tbody tr th {\n",
       "        vertical-align: top;\n",
       "    }\n",
       "\n",
       "    .dataframe thead th {\n",
       "        text-align: right;\n",
       "    }\n",
       "</style>\n",
       "<table border=\"1\" class=\"dataframe\">\n",
       "  <thead>\n",
       "    <tr style=\"text-align: right;\">\n",
       "      <th></th>\n",
       "      <th>10/15/2023</th>\n",
       "    </tr>\n",
       "    <tr>\n",
       "      <th>Strongest</th>\n",
       "      <th></th>\n",
       "    </tr>\n",
       "  </thead>\n",
       "  <tbody>\n",
       "    <tr>\n",
       "      <th>Momentum</th>\n",
       "      <td>CHF</td>\n",
       "    </tr>\n",
       "    <tr>\n",
       "      <th>Trend</th>\n",
       "      <td>USD</td>\n",
       "    </tr>\n",
       "    <tr>\n",
       "      <th>Strength</th>\n",
       "      <td>None</td>\n",
       "    </tr>\n",
       "    <tr>\n",
       "      <th>Long Trade</th>\n",
       "      <td>None</td>\n",
       "    </tr>\n",
       "  </tbody>\n",
       "</table>\n",
       "</div>"
      ],
      "text/plain": [
       "           10/15/2023\n",
       "Strongest            \n",
       "Momentum          CHF\n",
       "Trend             USD\n",
       "Strength         None\n",
       "Long Trade       None"
      ]
     },
     "execution_count": 37,
     "metadata": {},
     "output_type": "execute_result"
    }
   ],
   "source": [
    "current_date = datetime.now()\n",
    "to_date = current_date.strftime('%m/%d/%Y')\n",
    "bull = pd.DataFrame(program.iloc[-1,0::2]).reset_index().copy()\n",
    "bull['index'] = ['Momentum','Trend','Strength','Long Trade']\n",
    "bull.columns = ['Strongest',to_date]\n",
    "bull = bull.set_index('Strongest')\n",
    "bull"
   ]
  },
  {
   "cell_type": "markdown",
   "id": "d388cbc5",
   "metadata": {},
   "source": [
    "# TODAY'S WEAKEST CURRENCY"
   ]
  },
  {
   "cell_type": "code",
   "execution_count": 38,
   "id": "5a299b47",
   "metadata": {},
   "outputs": [
    {
     "data": {
      "text/html": [
       "<div>\n",
       "<style scoped>\n",
       "    .dataframe tbody tr th:only-of-type {\n",
       "        vertical-align: middle;\n",
       "    }\n",
       "\n",
       "    .dataframe tbody tr th {\n",
       "        vertical-align: top;\n",
       "    }\n",
       "\n",
       "    .dataframe thead th {\n",
       "        text-align: right;\n",
       "    }\n",
       "</style>\n",
       "<table border=\"1\" class=\"dataframe\">\n",
       "  <thead>\n",
       "    <tr style=\"text-align: right;\">\n",
       "      <th></th>\n",
       "      <th>10/15/2023</th>\n",
       "    </tr>\n",
       "    <tr>\n",
       "      <th>Weakest</th>\n",
       "      <th></th>\n",
       "    </tr>\n",
       "  </thead>\n",
       "  <tbody>\n",
       "    <tr>\n",
       "      <th>Momentum</th>\n",
       "      <td>AUD</td>\n",
       "    </tr>\n",
       "    <tr>\n",
       "      <th>Trend</th>\n",
       "      <td>AUD</td>\n",
       "    </tr>\n",
       "    <tr>\n",
       "      <th>Strength</th>\n",
       "      <td>AUD</td>\n",
       "    </tr>\n",
       "    <tr>\n",
       "      <th>Short Trade</th>\n",
       "      <td>AUD/GBP</td>\n",
       "    </tr>\n",
       "  </tbody>\n",
       "</table>\n",
       "</div>"
      ],
      "text/plain": [
       "            10/15/2023\n",
       "Weakest               \n",
       "Momentum           AUD\n",
       "Trend              AUD\n",
       "Strength           AUD\n",
       "Short Trade    AUD/GBP"
      ]
     },
     "execution_count": 38,
     "metadata": {},
     "output_type": "execute_result"
    }
   ],
   "source": [
    "bear = pd.DataFrame(program.iloc[-1,1::2]).reset_index().copy()\n",
    "bear['index'] = ['Momentum','Trend','Strength','Short Trade']\n",
    "bear.columns = ['Weakest',to_date]\n",
    "bear = bear.set_index('Weakest')\n",
    "bear"
   ]
  },
  {
   "cell_type": "markdown",
   "id": "f8ccd4bb",
   "metadata": {},
   "source": [
    "# STRONGEST CURRENCY: OVER THE WEEK"
   ]
  },
  {
   "cell_type": "code",
   "execution_count": 32,
   "id": "ce0180b8",
   "metadata": {},
   "outputs": [
    {
     "data": {
      "text/html": [
       "<div>\n",
       "<style scoped>\n",
       "    .dataframe tbody tr th:only-of-type {\n",
       "        vertical-align: middle;\n",
       "    }\n",
       "\n",
       "    .dataframe tbody tr th {\n",
       "        vertical-align: top;\n",
       "    }\n",
       "\n",
       "    .dataframe thead th {\n",
       "        text-align: right;\n",
       "    }\n",
       "</style>\n",
       "<table border=\"1\" class=\"dataframe\">\n",
       "  <thead>\n",
       "    <tr style=\"text-align: right;\">\n",
       "      <th></th>\n",
       "      <th>2023-10-13</th>\n",
       "      <th>2023-10-12</th>\n",
       "      <th>2023-10-11</th>\n",
       "      <th>2023-10-10</th>\n",
       "      <th>2023-10-09</th>\n",
       "    </tr>\n",
       "    <tr>\n",
       "      <th>Strongest</th>\n",
       "      <th></th>\n",
       "      <th></th>\n",
       "      <th></th>\n",
       "      <th></th>\n",
       "      <th></th>\n",
       "    </tr>\n",
       "  </thead>\n",
       "  <tbody>\n",
       "    <tr>\n",
       "      <th>Momentum</th>\n",
       "      <td>CHF</td>\n",
       "      <td>USD</td>\n",
       "      <td>CHF</td>\n",
       "      <td>AUD</td>\n",
       "      <td>JPY</td>\n",
       "    </tr>\n",
       "    <tr>\n",
       "      <th>Trend</th>\n",
       "      <td>USD</td>\n",
       "      <td>USD</td>\n",
       "      <td>USD</td>\n",
       "      <td>USD</td>\n",
       "      <td>USD</td>\n",
       "    </tr>\n",
       "    <tr>\n",
       "      <th>Strength</th>\n",
       "      <td>None</td>\n",
       "      <td>USD</td>\n",
       "      <td>None</td>\n",
       "      <td>None</td>\n",
       "      <td>None</td>\n",
       "    </tr>\n",
       "    <tr>\n",
       "      <th>Long Trade</th>\n",
       "      <td>None</td>\n",
       "      <td>USD/AUD</td>\n",
       "      <td>None</td>\n",
       "      <td>None</td>\n",
       "      <td>None</td>\n",
       "    </tr>\n",
       "  </tbody>\n",
       "</table>\n",
       "</div>"
      ],
      "text/plain": [
       "0          2023-10-13 2023-10-12 2023-10-11 2023-10-10 2023-10-09\n",
       "Strongest                                                        \n",
       "Momentum          CHF        USD        CHF        AUD        JPY\n",
       "Trend             USD        USD        USD        USD        USD\n",
       "Strength         None        USD       None       None       None\n",
       "Long Trade       None    USD/AUD       None       None       None"
      ]
     },
     "execution_count": 32,
     "metadata": {},
     "output_type": "execute_result"
    }
   ],
   "source": [
    "bull_2 = pd.DataFrame(program.iloc[-5:,0::2]).reset_index().copy()\n",
    "bull_2['Date'] = bull_2['Date'].astype(str)\n",
    "bull_2 = bull_2.transpose().reset_index()\n",
    "bull_2['index'] = ['Strongest','Momentum','Trend','Strength','Long Trade']\n",
    "order = bull_2.iloc[0].sort_values(ascending = False)[1:].tolist()\n",
    "bull_2.columns = bull_2.iloc[0]\n",
    "bull_2 = bull_2.iloc[1:]\n",
    "bull_2 = bull_2.set_index('Strongest')\n",
    "bull_2 = bull_2[order]\n",
    "bull_2"
   ]
  },
  {
   "cell_type": "markdown",
   "id": "925a4cea",
   "metadata": {},
   "source": [
    "# WEAKEST CURRENCY: OVER THE WEEK"
   ]
  },
  {
   "cell_type": "code",
   "execution_count": 33,
   "id": "4bf9d74d",
   "metadata": {},
   "outputs": [
    {
     "data": {
      "text/html": [
       "<div>\n",
       "<style scoped>\n",
       "    .dataframe tbody tr th:only-of-type {\n",
       "        vertical-align: middle;\n",
       "    }\n",
       "\n",
       "    .dataframe tbody tr th {\n",
       "        vertical-align: top;\n",
       "    }\n",
       "\n",
       "    .dataframe thead th {\n",
       "        text-align: right;\n",
       "    }\n",
       "</style>\n",
       "<table border=\"1\" class=\"dataframe\">\n",
       "  <thead>\n",
       "    <tr style=\"text-align: right;\">\n",
       "      <th></th>\n",
       "      <th>Today</th>\n",
       "      <th>T-1</th>\n",
       "      <th>T-2</th>\n",
       "      <th>T-3</th>\n",
       "      <th>T-4</th>\n",
       "    </tr>\n",
       "    <tr>\n",
       "      <th>Weakest</th>\n",
       "      <th></th>\n",
       "      <th></th>\n",
       "      <th></th>\n",
       "      <th></th>\n",
       "      <th></th>\n",
       "    </tr>\n",
       "  </thead>\n",
       "  <tbody>\n",
       "    <tr>\n",
       "      <th>Momentum</th>\n",
       "      <td>AUD</td>\n",
       "      <td>AUD</td>\n",
       "      <td>JPY</td>\n",
       "      <td>USD</td>\n",
       "      <td>USD</td>\n",
       "    </tr>\n",
       "    <tr>\n",
       "      <th>Trend</th>\n",
       "      <td>AUD</td>\n",
       "      <td>AUD</td>\n",
       "      <td>JPY</td>\n",
       "      <td>GBP</td>\n",
       "      <td>GBP</td>\n",
       "    </tr>\n",
       "    <tr>\n",
       "      <th>Strength</th>\n",
       "      <td>AUD</td>\n",
       "      <td>AUD</td>\n",
       "      <td>JPY</td>\n",
       "      <td>None</td>\n",
       "      <td>None</td>\n",
       "    </tr>\n",
       "    <tr>\n",
       "      <th>Short Trade</th>\n",
       "      <td>AUD/GBP</td>\n",
       "      <td>AUD/GBP</td>\n",
       "      <td>JPY/AUD</td>\n",
       "      <td>None</td>\n",
       "      <td>None</td>\n",
       "    </tr>\n",
       "  </tbody>\n",
       "</table>\n",
       "</div>"
      ],
      "text/plain": [
       "               Today      T-1      T-2   T-3   T-4\n",
       "Weakest                                           \n",
       "Momentum         AUD      AUD      JPY   USD   USD\n",
       "Trend            AUD      AUD      JPY   GBP   GBP\n",
       "Strength         AUD      AUD      JPY  None  None\n",
       "Short Trade  AUD/GBP  AUD/GBP  JPY/AUD  None  None"
      ]
     },
     "execution_count": 33,
     "metadata": {},
     "output_type": "execute_result"
    }
   ],
   "source": [
    "bear_2 = pd.DataFrame(program.iloc[-5:,1::2]).transpose().reset_index().copy()\n",
    "bear_2['index'] = ['Momentum','Trend','Strength','Short Trade']\n",
    "bear_2.columns = ['Weakest','T-4','T-3','T-2','T-1','Today']\n",
    "bear_2 = bear_2[['Weakest','Today','T-1','T-2','T-3','T-4']]\n",
    "bear_2 = bear_2.set_index('Weakest')\n",
    "bear_2"
   ]
  },
  {
   "cell_type": "markdown",
   "id": "d812588e",
   "metadata": {},
   "source": [
    "# VISUALIZING STRONG CURRENCIES"
   ]
  },
  {
   "cell_type": "code",
   "execution_count": 34,
   "id": "3fa4326c",
   "metadata": {},
   "outputs": [
    {
     "data": {
      "image/png": "[encoded data removed]",
      "text/plain": [
       "<Figure size 1500x1000 with 4 Axes>"
      ]
     },
     "metadata": {},
     "output_type": "display_data"
    }
   ],
   "source": [
    "strong = program.reset_index().copy()\n",
    "strong = strong[strong.columns[1::2]]\n",
    "\n",
    "var1 = 'Momentum'\n",
    "var2 = 'Trend'\n",
    "var3 = 'Strength'\n",
    "var4 = 'Long Trade'\n",
    "\n",
    "# Plotting the subplots\n",
    "fig,axs = plt.subplots(nrows = 2, ncols = 2, figsize = (15,10))\n",
    "\n",
    "# Risk 1 (top left)\n",
    "axs[0,0].set_title('Days as momentum leader')\n",
    "# Risk 2 (top right)\n",
    "axs[0,1].set_title('Days as trend leader')\n",
    "#Risk 3 (bottom left)\n",
    "axs[1,0].set_title('Days as strength leader')\n",
    "# Risk 4 (bottom right)\n",
    "axs[1,1].set_title('Days as long trade')\n",
    "\n",
    "# Creating the subplots\n",
    "momo = strong[strong.columns[0]].value_counts().reset_index()\n",
    "momo.columns = [var1,'Count']\n",
    "plot1 = sns.barplot(data = momo, x = var1, y = 'Count', order = momo[var1], ax = axs[0,0], color = 'steelblue')\n",
    "\n",
    "trend = strong[strong.columns[1]].value_counts().reset_index()\n",
    "trend.columns = [var2,'Count']\n",
    "plot2 = sns.barplot(data = trend, x =var2, y = 'Count', order = trend[var2], ax = axs[0,1], color = 'steelblue')\n",
    "\n",
    "strength = strong[strong.columns[2]].value_counts().reset_index()\n",
    "strength.columns = [var3,'Count']\n",
    "plot3 = sns.barplot(data = strength, x =var3, y = 'Count', order = strength[var3], ax = axs[1,0], color = 'steelblue')\n",
    "\n",
    "long = strong[strong.columns[3]].value_counts().reset_index()\n",
    "long.columns = [var4,'Count']\n",
    "plot4 = sns.barplot(data = long, x =var4, y = 'Count', order = long[var4], ax = axs[1,1], color = 'steelblue')\n",
    "\n",
    "plt.suptitle('Monitoring Strong Currencies, '+str(program.index.min())[:10]+' to '+ str(program.index.max())[:10])\n",
    "plt.tight_layout()"
   ]
  },
  {
   "cell_type": "markdown",
   "id": "87498e6d",
   "metadata": {},
   "source": [
    "# VISUALIZING WEAK CURRENCIES"
   ]
  },
  {
   "cell_type": "code",
   "execution_count": 35,
   "id": "6a4f1882",
   "metadata": {},
   "outputs": [
    {
     "data": {
      "image/png": "[encoded data removed]",
      "text/plain": [
       "<Figure size 1500x1000 with 4 Axes>"
      ]
     },
     "metadata": {},
     "output_type": "display_data"
    }
   ],
   "source": [
    "weak = program.reset_index().copy()\n",
    "weak = weak[weak.columns[2::2]]\n",
    "\n",
    "var1 = 'Momentum'\n",
    "var2 = 'Trend'\n",
    "var3 = 'Strength'\n",
    "var4 = 'Short Trade'\n",
    "\n",
    "# Plotting the subplots\n",
    "fig,axs = plt.subplots(nrows = 2, ncols = 2, figsize = (15,10))\n",
    "\n",
    "# Risk 1 (top left)\n",
    "axs[0,0].set_title('Days as momentum leader')\n",
    "# Risk 2 (top right)\n",
    "axs[0,1].set_title('Days as trend leader')\n",
    "#Risk 3 (bottom left)\n",
    "axs[1,0].set_title('Days as strength leader')\n",
    "# Risk 4 (bottom right)\n",
    "axs[1,1].set_title('Days as short trade')\n",
    "\n",
    "# Creating the subplots\n",
    "momo = weak[weak.columns[0]].value_counts().reset_index()\n",
    "momo.columns = [var1,'Count']\n",
    "plot1 = sns.barplot(data = momo, x = var1, y = 'Count', order = momo[var1], ax = axs[0,0], color = 'steelblue')\n",
    "\n",
    "trend = weak[weak.columns[1]].value_counts().reset_index()\n",
    "trend.columns = [var2,'Count']\n",
    "plot2 = sns.barplot(data = trend, x =var2, y = 'Count', order = trend[var2], ax = axs[0,1], color = 'steelblue')\n",
    "\n",
    "strength = weak[weak.columns[2]].value_counts().reset_index()\n",
    "strength.columns = [var3,'Count']\n",
    "plot3 = sns.barplot(data = strength, x =var3, y = 'Count', order = strength[var3], ax = axs[1,0], color = 'steelblue')\n",
    "\n",
    "long = weak[weak.columns[3]].value_counts().reset_index()\n",
    "long.columns = [var4,'Count']\n",
    "plot4 = sns.barplot(data = long, x =var4, y = 'Count', order = long[var4], ax = axs[1,1], color = 'steelblue')\n",
    "\n",
    "plt.suptitle('Monitoring Weak Currencies, '+str(program.index.min())[:10]+' to '+ str(program.index.max())[:10])\n",
    "plt.tight_layout()"
   ]
  },
  {
   "cell_type": "code",
   "execution_count": null,
   "id": "4544139f",
   "metadata": {},
   "outputs": [],
   "source": []
  }
 ],
 "metadata": {
  "kernelspec": {
   "display_name": "Python 3 (ipykernel)",
   "language": "python",
   "name": "python3"
  },
  "language_info": {
   "codemirror_mode": {
    "name": "ipython",
    "version": 3
   },
   "file_extension": ".py",
   "mimetype": "text/x-python",
   "name": "python",
   "nbconvert_exporter": "python",
   "pygments_lexer": "ipython3",
   "version": "3.10.9"
  }
 },
 "nbformat": 4,
 "nbformat_minor": 5
}
